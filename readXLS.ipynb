{
 "cells": [
  {
   "cell_type": "code",
   "execution_count": 2,
   "metadata": {},
   "outputs": [
    {
     "name": "stdout",
     "output_type": "stream",
     "text": [
      "      SKU  STYLE  COLOR\n",
      "0  212954  SS345    121\n",
      "1  253789  A0088    456\n",
      "2  274151  EE412    109\n",
      "A0088_456.jpg\n",
      "Copy ./jpg/A0088_456.jpg to ./output/253789.jpg\n",
      "SS345_121.jpg\n",
      "Copy ./jpg/SS345_121.jpg to ./output/212954.jpg\n",
      "EE412_109.jpg\n",
      "Copy ./jpg/EE412_109.jpg to ./output/274151.jpg\n",
      "XX345_121.jpg\n",
      "XX345_121.jpg not found in xlsx.\n",
      "A0089_455.jpg\n",
      "Copy ./jpg/A0089_455.jpg to ./output/889744.jpg\n"
     ]
    }
   ],
   "source": [
    "import pandas as pd\n",
    "import openpyxl\n",
    "import os\n",
    "import shutil\n",
    "\n",
    "xlsFile = (r'./Book1.xlsx')\n",
    "myFolder = (r'./jpg')\n",
    "outFolder = (r'./output')\n",
    "\n",
    "\n",
    "df = pd.read_excel(xlsFile)\n",
    "df.sort_values(by=['SKU'], ascending = True, inplace = True)\n",
    "df.reset_index(drop = True, inplace = True)\n",
    "print (df.head(3))\n",
    "\n",
    "for dirpath, dirnames, filenames in os.walk(myFolder):\n",
    "    for file_name in filenames:\n",
    "        file_path = os.path.join(dirpath, file_name)\n",
    "        print(file_name)\n",
    "        myIndexPos = file_name.index('_')\n",
    "        style_num = file_name[:myIndexPos]\n",
    "        color_num = file_name[myIndexPos+1:].rsplit('.', -1)[0]\n",
    "        #print(style_num + ' ' + color_num)\n",
    "        try:\n",
    "            value = df.loc[(df['STYLE'] == style_num) & (df['COLOR'] == int(color_num)), 'SKU'].iloc[0]\n",
    "            #print(value)\n",
    "            newFile = f'{value}.jpg'\n",
    "            newPath = os.path.join(outFolder,newFile)\n",
    "            print(f'Copy {file_path} to {newPath}')\n",
    "            shutil.copy(file_path, newPath)\n",
    "        except:\n",
    "            print(file_name + ' not found in xlsx.')\n",
    "            "
   ]
  }
 ],
 "metadata": {
  "kernelspec": {
   "display_name": "myvenv",
   "language": "python",
   "name": "python3"
  },
  "language_info": {
   "codemirror_mode": {
    "name": "ipython",
    "version": 3
   },
   "file_extension": ".py",
   "mimetype": "text/x-python",
   "name": "python",
   "nbconvert_exporter": "python",
   "pygments_lexer": "ipython3",
   "version": "3.9.16"
  },
  "orig_nbformat": 4
 },
 "nbformat": 4,
 "nbformat_minor": 2
}
